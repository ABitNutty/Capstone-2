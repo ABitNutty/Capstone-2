{
 "cells": [
  {
   "cell_type": "markdown",
   "metadata": {},
   "source": [
    "# Capstone Project: Exploratory Data Analysis - Inferential Statistics\n",
    "\n",
    "Capstone Project #2: Yelp Sentiment Analysis \n",
    "Springboard -- Data Science Career Program\n",
    "Inferential Statistics -- July 2020\n",
    "By Kevin Cole\n",
    "\n",
    "This notebook explores questions posed with applications of statistics. \n",
    "\n",
    "\n",
    "\n",
    "- Initial Proposal ** Insert links here***\n",
    "- Data Wrangling\n",
    "- Data Story "
   ]
  },
  {
   "cell_type": "code",
   "execution_count": 1,
   "metadata": {},
   "outputs": [],
   "source": [
    "import pandas as pd\n",
    "import numpy as np\n",
    "import matplotlib.pyplot as plt\n",
    "import seaborn as sns\n",
    "import json\n",
    "import pickle\n",
    "import timeit\n",
    "import seaborn as sns\n",
    "from sklearn.feature_extraction.text import CountVectorizer\n",
    "\n",
    "# Setup Seaborn\n",
    "sns.set_style(\"whitegrid\")\n",
    "sns.set_context(\"poster\")"
   ]
  },
  {
   "cell_type": "markdown",
   "metadata": {},
   "source": [
    "# Questions Posed\n",
    "\n",
    "- Is there a statistical significance to the difference in mean review length observed between good and bad ratings?\n",
    "- Is there a statistical significance to the difference in mean review length observed between open and closed restaurants?\n",
    "- Is there a statistical significance to the difference in mean rating observed between open and closed restaurants?\n"
   ]
  },
  {
   "cell_type": "code",
   "execution_count": 2,
   "metadata": {},
   "outputs": [],
   "source": [
    "reviews = pickle.load( open( \"restaurant_reviews_cleaned.pkl\", \"rb\" ) )"
   ]
  },
  {
   "cell_type": "code",
   "execution_count": 3,
   "metadata": {},
   "outputs": [],
   "source": [
    "# Bootstrapping tools\n",
    "\n",
    "# For reproducability\n",
    "np.random.seed(42)\n",
    "\n",
    "N_rep = 10000\n",
    "\n",
    "def bootstrap_replicate_1d(data, func):\n",
    "    \"\"\"Generate single bootstrap replicate of 1D data.\"\"\"\n",
    "    bs_sample = np.random.choice(data, len(data))\n",
    "    return func(bs_sample)\n",
    "\n",
    "def create_bs_reps_array(data, func, size=1):\n",
    "    \"\"\"Creates an array of size input creating bootstrap replicates of function statistic.\"\"\"\n",
    "\n",
    "    # Initialize array of replicates: bs_replicates\n",
    "    bs_replicates = np.empty(size)\n",
    "\n",
    "    # Generate replicates\n",
    "    for i in range(size):\n",
    "        bs_replicates[i] = bootstrap_replicate_1d(data, func)\n",
    "\n",
    "    return bs_replicates"
   ]
  },
  {
   "cell_type": "code",
   "execution_count": 4,
   "metadata": {},
   "outputs": [],
   "source": [
    "#  Data Subsetting\n",
    "closed_restaurants = reviews[reviews.is_open == 0]\n",
    "open_restaurants = reviews[reviews.is_open ==1]\n",
    "closed_bad = closed_restaurants[closed_restaurants.good_bad == 'Bad']\n",
    "open_bad = open_restaurants[open_restaurants.good_bad == 'Bad']\n",
    "good_reviews = reviews[reviews.good_bad == 'Good']\n",
    "bad_reviews = reviews[reviews.good_bad == 'Bad']"
   ]
  },
  {
   "cell_type": "markdown",
   "metadata": {},
   "source": [
    "# Is there a statistical significance to the difference in mean review length observed between good ratings and bad ratings?"
   ]
  },
  {
   "cell_type": "markdown",
   "metadata": {},
   "source": [
    "# Hypothesis - Good/Bad Review length\n",
    "\n",
    "Null Hypothesis: The mean review length is equal between restaurants with good ratings and those with bad ratings. Their difference is zero. <br> Alternative Hypothesis: The difference in mean length of reviews of open vs. closed restaurants is nonzero. "
   ]
  },
  {
   "cell_type": "code",
   "execution_count": 5,
   "metadata": {},
   "outputs": [
    {
     "name": "stdout",
     "output_type": "stream",
     "text": [
      "Mean review length for good ratings: 322.3785087166866\n",
      "Mean review length for bad ratings: 410.8125378356613\n",
      "\n",
      "The observed difference in means is 88 and we are testing to determine if this difference is significant.\n"
     ]
    }
   ],
   "source": [
    "good_mean_length = good_reviews.length.mean()\n",
    "bad_mean_length = bad_reviews.length.mean()\n",
    "combined_mean = reviews.loc[reviews.stars !=3 ].length.mean()\n",
    "observed_difference = bad_reviews.length.mean()-good_reviews.length.mean()\n",
    "\n",
    "print('Mean review length for good ratings: ' + str(good_mean_length))\n",
    "print('Mean review length for bad ratings: ' + str(bad_mean_length))\n",
    "print('')\n",
    "print('The observed difference in means is ' + str(round(observed_difference)) +\n",
    "      ' and we are testing to determine if this difference is significant.')"
   ]
  },
  {
   "cell_type": "code",
   "execution_count": 6,
   "metadata": {},
   "outputs": [
    {
     "data": {
      "image/png": "[encoded data removed]",
      "text/plain": [
       "<Figure size 432x288 with 1 Axes>"
      ]
     },
     "metadata": {
      "needs_background": "light"
     },
     "output_type": "display_data"
    }
   ],
   "source": [
    "# Creating histogram of review lengths over the two populations\n",
    "plt.hist(good_reviews.length[good_reviews.length<1000], density=True, alpha=0.5, label='Good')\n",
    "plt.hist(bad_reviews.length[bad_reviews.length<1000], density=True, alpha=0.5, label='Bad')\n",
    "plt.axvline(good_mean_length ,color='b')\n",
    "plt.axvline(bad_mean_length ,color='r')\n",
    "plt.legend()\n",
    "plt.xlabel('Review Length')\n",
    "plt.title('Comparison of Sample Mean Review Lengths')\n",
    "plt.show()"
   ]
  },
  {
   "cell_type": "code",
   "execution_count": 7,
   "metadata": {},
   "outputs": [
    {
     "name": "stdout",
     "output_type": "stream",
     "text": [
      "Shifted Complete: 0.0 minutes\n",
      "Bootstrap Complete: 29 minutes\n",
      "Replicates Complete: 29 minutes\n",
      "p-value = 0.0\n",
      "All Complete: 29 minutes\n"
     ]
    }
   ],
   "source": [
    "# Timing start\n",
    "start_time = timeit.default_timer()\n",
    "\n",
    "# Creating shifted charges arrays\n",
    "good_shifted = good_reviews.length - good_mean_length + combined_mean\n",
    "bad_shifted = bad_reviews.length - bad_mean_length + combined_mean\n",
    "\n",
    "print('Shifted Complete: ' + str(round((timeit.default_timer() - start_time))/60) + ' minutes')\n",
    "\n",
    "# Creating bootstrap samples\n",
    "bs_good_mean = create_bs_reps_array(good_shifted, np.mean, size=10000)\n",
    "bs_bad_mean = create_bs_reps_array(bad_shifted, np.mean, size=10000)\n",
    "\n",
    "print('Bootstrap Complete: ' + str(round((timeit.default_timer() - start_time)/60)) + ' minutes')\n",
    "\n",
    "# Bootstraped replicates of difference of means\n",
    "bs_difference = bs_good_mean - bs_bad_mean\n",
    "\n",
    "print('Replicates Complete: ' + str(round((timeit.default_timer() - start_time)/60)) + ' minutes')\n",
    "\n",
    "# Find probablity of events at least as extreme as observed\n",
    "p = np.sum(bs_difference >= (bad_mean_length-good_mean_length)) / len(bs_difference)\n",
    "print('p-value =', p)\n",
    "\n",
    "# Elapsed time calculation\n",
    "elapsed = timeit.default_timer() - start_time\n",
    "print('All Complete: ' + str(round(elapsed/60)) + ' minutes')\n"
   ]
  },
  {
   "cell_type": "code",
   "execution_count": 8,
   "metadata": {},
   "outputs": [
    {
     "name": "stdout",
     "output_type": "stream",
     "text": [
      "p-value = 0.0\n"
     ]
    }
   ],
   "source": [
    "# Find probablity of events at least as extreme as observed\n",
    "p = np.sum(bs_difference >= (bad_mean_length-good_mean_length)) / len(bs_difference)\n",
    "print('p-value =', p)"
   ]
  },
  {
   "cell_type": "markdown",
   "metadata": {},
   "source": [
    "# Is there a statistical significance to the difference in mean review length observed between open and closed restaurants?"
   ]
  },
  {
   "cell_type": "markdown",
   "metadata": {},
   "source": [
    "# Hypothesis - Open/Closed Length\n",
    "\n",
    "Null Hypothesis: The mean length of reviews is equal between open and closed restaurants. Their difference is zero. <br> Alternative Hypothesis: The difference between the mean length of reviews of open vs. closed restaurants is nonzero. "
   ]
  },
  {
   "cell_type": "code",
   "execution_count": 9,
   "metadata": {},
   "outputs": [
    {
     "name": "stdout",
     "output_type": "stream",
     "text": [
      "Mean review length for open restaurants: 345.7075372289648\n",
      "Mean review length for closed restaurants: 397.2129685831337\n",
      "\n",
      "The observed difference in means is 52 and we are testing to determine if this difference is significant.\n"
     ]
    }
   ],
   "source": [
    "open_mean = open_restaurants.length.mean()\n",
    "closed_mean = closed_restaurants.length.mean()\n",
    "combined_mean = reviews.length.mean()\n",
    "observed_difference = closed_restaurants.length.mean()-open_restaurants.length.mean()\n",
    "\n",
    "print('Mean review length for open restaurants: ' + str(open_mean))\n",
    "print('Mean review length for closed restaurants: ' + str(closed_mean))\n",
    "print('')\n",
    "print('The observed difference in means is ' + str(round(observed_difference)) +\n",
    "      ' and we are testing to determine if this difference is significant.')"
   ]
  },
  {
   "cell_type": "code",
   "execution_count": 10,
   "metadata": {},
   "outputs": [
    {
     "data": {
      "image/png": "[encoded data removed]",
      "text/plain": [
       "<Figure size 432x288 with 1 Axes>"
      ]
     },
     "metadata": {
      "needs_background": "light"
     },
     "output_type": "display_data"
    }
   ],
   "source": [
    "# Creating histogram of review lengths over the two populations\n",
    "plt.hist(open_restaurants.length[open_restaurants.length<1000], density=True, alpha=0.5, label='Open')\n",
    "plt.hist(closed_restaurants.length[closed_restaurants.length<1000], density=True, alpha=0.5, label='Closed')\n",
    "plt.axvline(open_mean ,color='b')\n",
    "plt.axvline(closed_mean ,color='r')\n",
    "plt.legend()\n",
    "plt.xlabel('Review Length')\n",
    "plt.title('Comparison of Sample Mean Review Lengths')\n",
    "plt.show()"
   ]
  },
  {
   "cell_type": "code",
   "execution_count": 13,
   "metadata": {},
   "outputs": [
    {
     "name": "stdout",
     "output_type": "stream",
     "text": [
      "Shifted Complete: 0.0 minutes\n",
      "Bootstrap Complete: 37 minutes\n",
      "Replicates Complete: 37 minutes\n",
      "p-value = 0.0\n",
      "All Complete: 37 minutes\n"
     ]
    }
   ],
   "source": [
    "# Timing start\n",
    "start_time = timeit.default_timer()\n",
    "\n",
    "# Creating shifted charges arrays\n",
    "open_shifted = open_restaurants.length - open_mean + combined_mean\n",
    "closed_shifted = closed_restaurants.length - closed_mean + combined_mean\n",
    "\n",
    "print('Shifted Complete: ' + str(round((timeit.default_timer() - start_time))/60) + ' minutes')\n",
    "\n",
    "# Creating bootstrap samples\n",
    "bs_open_mean = create_bs_reps_array(open_shifted, np.mean, size=10000)\n",
    "bs_closed_mean = create_bs_reps_array(closed_shifted, np.mean, size=10000)\n",
    "\n",
    "print('Bootstrap Complete: ' + str(round((timeit.default_timer() - start_time)/60)) + ' minutes')\n",
    "\n",
    "# Bootstraped replicates of difference of means\n",
    "bs_difference = bs_open_mean - bs_closed_mean\n",
    "\n",
    "print('Replicates Complete: ' + str(round((timeit.default_timer() - start_time)/60)) + ' minutes')\n",
    "\n",
    "# Find probablity of events at least as extreme as observed\n",
    "p = np.sum(bs_difference >= (closed_mean-open_mean)) / len(bs_difference)\n",
    "print('p-value =', p)\n",
    "\n",
    "# Elapsed time calculation\n",
    "elapsed = timeit.default_timer() - start_time\n",
    "print('All Complete: ' + str(round(elapsed/60)) + ' minutes')\n"
   ]
  },
  {
   "cell_type": "code",
   "execution_count": 14,
   "metadata": {},
   "outputs": [
    {
     "name": "stdout",
     "output_type": "stream",
     "text": [
      "p-value = 0.0\n"
     ]
    }
   ],
   "source": [
    "# Find probablity of events at least as extreme as observed\n",
    "p = np.sum(bs_difference >= (closed_mean-open_mean)) / len(bs_difference)\n",
    "print('p-value =', p)"
   ]
  },
  {
   "cell_type": "markdown",
   "metadata": {},
   "source": [
    "# Results - Open/Closed Review Length\n",
    "\n",
    "With the mean shifted data, there were no occurances of mean differences at least extreme as observed. We reject the null hypothosis that the means are equal based on what we observed and conclude that the difference observed is statistically significant. "
   ]
  },
  {
   "cell_type": "markdown",
   "metadata": {},
   "source": [
    "# Is there a statistical significance to the difference in mean rating observed between open and closed restaurants?"
   ]
  },
  {
   "cell_type": "markdown",
   "metadata": {},
   "source": [
    "# Hypothesis - Open/Closed Ratings\n",
    "\n",
    "We can see an observed difference in mean rating of open restaurants and closed restaurants. \n",
    "\n",
    "Null Hypothesis: The means of the two populations are equal; mean rating for open restaurants minus mean rating for closed restaurants is zero. \n",
    "Alternative Hypothesis: The mean rating for open restaurants minus mean rating for closed restaurants is non-zero. "
   ]
  },
  {
   "cell_type": "code",
   "execution_count": 15,
   "metadata": {},
   "outputs": [
    {
     "name": "stdout",
     "output_type": "stream",
     "text": [
      "Mean rating for open restaurants: 3.7602575455554073\n",
      "Mean rating for closed restaurants: 3.579607696438376\n",
      "\n",
      "The observed difference in means is 0.1806498491170312 and we are testing to determine if this difference is significant.\n"
     ]
    }
   ],
   "source": [
    "open_mean_rating = open_restaurants.stars.mean()\n",
    "closed_mean_rating = closed_restaurants.stars.mean()\n",
    "observed_mean_difference = open_mean_rating - closed_mean_rating\n",
    "combined_mean_rating = reviews.stars.mean()\n",
    "\n",
    "print('Mean rating for open restaurants: ' + str(open_mean_rating))\n",
    "print('Mean rating for closed restaurants: ' + str(closed_mean_rating))\n",
    "print('')\n",
    "print('The observed difference in means is ' + str(observed_mean_difference) +\n",
    "      ' and we are testing to determine if this difference is significant.')"
   ]
  },
  {
   "cell_type": "code",
   "execution_count": 16,
   "metadata": {},
   "outputs": [
    {
     "data": {
      "image/png": "[encoded data removed]",
      "text/plain": [
       "<Figure size 432x288 with 1 Axes>"
      ]
     },
     "metadata": {
      "needs_background": "light"
     },
     "output_type": "display_data"
    }
   ],
   "source": [
    "# Creating histogram of ratings over the two populations\n",
    "plt.hist(open_restaurants.stars, bins=[.5,1.5,2.5,3.5,4.5,5.5], align='mid', histtype='step',\n",
    "         density=True, label='Open')\n",
    "plt.hist(closed_restaurants.stars, bins=[.5,1.5,2.5,3.5,4.5,5.5], align='mid', histtype='step',\n",
    "         density=True, label='Closed')\n",
    "plt.axvline(open_mean_rating ,color='b')\n",
    "plt.axvline(closed_mean_rating ,color='r')\n",
    "plt.legend()\n",
    "plt.xlabel('Review Rating')\n",
    "plt.title('Distribution of Ratings')\n",
    "plt.xticks([1,2,3,4,5])\n",
    "plt.show()"
   ]
  },
  {
   "cell_type": "code",
   "execution_count": 17,
   "metadata": {},
   "outputs": [],
   "source": [
    "# Creating shifted charges arrays\n",
    "open_shifted = open_restaurants.stars - open_mean_rating + combined_mean_rating\n",
    "closed_shifted = closed_restaurants.stars - closed_mean_rating + combined_mean_rating"
   ]
  },
  {
   "cell_type": "code",
   "execution_count": 18,
   "metadata": {},
   "outputs": [
    {
     "name": "stdout",
     "output_type": "stream",
     "text": [
      "Replicates Complete: 36 minutes\n"
     ]
    }
   ],
   "source": [
    "# Timing start\n",
    "start_time = timeit.default_timer()\n",
    "\n",
    "# Creating bootstrap samples\n",
    "bs_open_mean = create_bs_reps_array(open_shifted, np.mean, size=10000)\n",
    "bs_closed_mean = create_bs_reps_array(closed_shifted, np.mean, size=10000)\n",
    "\n",
    "# Bootstraped replicates of difference of means\n",
    "bs_difference = bs_open_mean - bs_closed_mean\n",
    "\n",
    "print('Replicates Complete: ' + str(round((timeit.default_timer() - start_time)/60)) + ' minutes')"
   ]
  },
  {
   "cell_type": "code",
   "execution_count": 19,
   "metadata": {},
   "outputs": [
    {
     "name": "stdout",
     "output_type": "stream",
     "text": [
      "p-value = 0.0\n"
     ]
    }
   ],
   "source": [
    "# Find probablity of events at least as extreme as observed\n",
    "p = np.sum(bs_difference >= (open_mean_rating-closed_mean_rating)) / len(bs_difference)\n",
    "print('p-value =', p)"
   ]
  },
  {
   "cell_type": "code",
   "execution_count": 20,
   "metadata": {},
   "outputs": [
    {
     "data": {
      "image/png": "[encoded data removed]",
      "text/plain": [
       "<Figure size 432x288 with 1 Axes>"
      ]
     },
     "metadata": {
      "needs_background": "light"
     },
     "output_type": "display_data"
    }
   ],
   "source": [
    "sns.boxplot(bs_difference)\n",
    "plt.show()"
   ]
  },
  {
   "cell_type": "markdown",
   "metadata": {},
   "source": [
    "# Results - Open/Closed Ratings \n",
    "\n",
    "With the mean shifted data, there were no occurrences of mean differences at least extreme as observed. We reject the null hypothesis that the means are equal based on what we observed and conclude that the difference in Rating between open and closed restaurants is statistically significant. "
   ]
  },
  {
   "cell_type": "code",
   "execution_count": null,
   "metadata": {},
   "outputs": [],
   "source": []
  },
  {
   "cell_type": "code",
   "execution_count": null,
   "metadata": {},
   "outputs": [],
   "source": []
  },
  {
   "cell_type": "code",
   "execution_count": null,
   "metadata": {},
   "outputs": [],
   "source": []
  },
  {
   "cell_type": "code",
   "execution_count": null,
   "metadata": {},
   "outputs": [],
   "source": []
  },
  {
   "cell_type": "code",
   "execution_count": null,
   "metadata": {},
   "outputs": [],
   "source": []
  }
 ],
 "metadata": {
  "kernelspec": {
   "display_name": "Python 3",
   "language": "python",
   "name": "python3"
  },
  "language_info": {
   "codemirror_mode": {
    "name": "ipython",
    "version": 3
   },
   "file_extension": ".py",
   "mimetype": "text/x-python",
   "name": "python",
   "nbconvert_exporter": "python",
   "pygments_lexer": "ipython3",
   "version": "3.7.4"
  }
 },
 "nbformat": 4,
 "nbformat_minor": 2
}
